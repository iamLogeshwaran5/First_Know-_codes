{
  "nbformat": 4,
  "nbformat_minor": 0,
  "metadata": {
    "colab": {
      "provenance": [],
      "authorship_tag": "ABX9TyOU9bPm/bI96fj+eSGpByxJ",
      "include_colab_link": true
    },
    "kernelspec": {
      "name": "python3",
      "display_name": "Python 3"
    },
    "language_info": {
      "name": "python"
    }
  },
  "cells": [
    {
      "cell_type": "markdown",
      "metadata": {
        "id": "view-in-github",
        "colab_type": "text"
      },
      "source": [
        "<a href=\"https://colab.research.google.com/github/iamLogeshwaran5/First_Know-_codes/blob/main/140_basic_code.ipynb\" target=\"_parent\"><img src=\"https://colab.research.google.com/assets/colab-badge.svg\" alt=\"Open In Colab\"/></a>"
      ]
    },
    {
      "cell_type": "markdown",
      "source": [
        "1. Write a Python program to print \"Hello Python\"."
      ],
      "metadata": {
        "id": "UD-7Nh7E0lt7"
      }
    },
    {
      "cell_type": "code",
      "source": [
        "print(\"hello world\")"
      ],
      "metadata": {
        "colab": {
          "base_uri": "https://localhost:8080/"
        },
        "id": "j8SPZYzs0pkP",
        "outputId": "950b4f78-d025-424e-d9e2-74c5d5c56008"
      },
      "execution_count": null,
      "outputs": [
        {
          "output_type": "stream",
          "name": "stdout",
          "text": [
            "hello world\n"
          ]
        }
      ]
    },
    {
      "cell_type": "markdown",
      "source": [
        "2.Write a Python program to do arithmetical operations addition and division."
      ],
      "metadata": {
        "id": "1DFtzfsN0t5v"
      }
    },
    {
      "cell_type": "code",
      "source": [
        "num1 = float(input(\"Enter the first number for addition: \"))\n",
        "num2 = float(input(\"Enter the second number for addition: \"))\n",
        "sum_result = num1 + num2\n",
        "print(f\"sum: {num1} + {num2} = {sum_result}\")"
      ],
      "metadata": {
        "colab": {
          "base_uri": "https://localhost:8080/"
        },
        "id": "YDGV8SYz00XP",
        "outputId": "ab2ddc3a-ab21-4604-b814-a0e693ad9bf3"
      },
      "execution_count": null,
      "outputs": [
        {
          "output_type": "stream",
          "name": "stdout",
          "text": [
            "Enter the first number for addition: 5\n",
            "Enter the second number for addition: 10\n",
            "sum: 5.0 + 10.0 = 15.0\n"
          ]
        }
      ]
    },
    {
      "cell_type": "code",
      "source": [
        "# division\n",
        "\n",
        "num3 = float(input(\"Enter the dividend for division: \"))\n",
        "num4 = float(input(\"Enter the divisor for division: \"))\n",
        "if num4 == 0:\n",
        " print(\"Error: Division by zero is not allowed.\")\n",
        "else:\n",
        " div_result = num3 / num4\n",
        " print(f\"Division: {num3} / {num4} = {div_result}\")"
      ],
      "metadata": {
        "colab": {
          "base_uri": "https://localhost:8080/"
        },
        "id": "3aHuNvjs08Gn",
        "outputId": "7e90471d-9c74-4aa1-e252-af0e55e5466b"
      },
      "execution_count": null,
      "outputs": [
        {
          "output_type": "stream",
          "name": "stdout",
          "text": [
            "Enter the dividend for division: 5\n",
            "Enter the divisor for division: 2\n",
            "Division: 5.0 / 2.0 = 2.5\n"
          ]
        }
      ]
    },
    {
      "cell_type": "markdown",
      "source": [
        "3.Write a Python program to find the area of a triangle."
      ],
      "metadata": {
        "id": "iP1gqF701Lhv"
      }
    },
    {
      "cell_type": "code",
      "source": [
        "# Input the base and height from the user\n",
        "base = float(input(\"Enter the length of the base of the triangle: \"))\n",
        "height = float(input(\"Enter the height of the triangle: \"))\n",
        "# Calculate the area of the triangle\n",
        "area = 0.5 * base * height\n",
        "# Display the result\n",
        "print(f\"The area of the triangle is: {area}\")"
      ],
      "metadata": {
        "colab": {
          "base_uri": "https://localhost:8080/"
        },
        "id": "KbYkGB0X1UUL",
        "outputId": "6cdcfee6-08fb-4261-d6da-bf6fa1e3d7e6"
      },
      "execution_count": null,
      "outputs": [
        {
          "output_type": "stream",
          "name": "stdout",
          "text": [
            "Enter the length of the base of the triangle: 10\n",
            "Enter the height of the triangle: 15\n",
            "The area of the triangle is: 75.0\n"
          ]
        }
      ]
    },
    {
      "cell_type": "markdown",
      "source": [
        "4.Write a Python program to swap two variables.\n"
      ],
      "metadata": {
        "id": "CgCursGz1ZKg"
      }
    },
    {
      "cell_type": "code",
      "source": [
        "# Input two variables\n",
        "a = input(\"Enter the value of the first variable (a): \")\n",
        "b = input(\"Enter the value of the second variable (b): \")\n",
        "# Display the original values\n",
        "print(f\"Original values: a = {a}, b = {b}\")\n",
        "# Swap the values using a temporary variable\n",
        "temp = a\n",
        "a = b\n",
        "b = temp\n",
        "# Display the swapped values\n",
        "print(f\"Swapped values: a = {a}, b = {b}\")\n"
      ],
      "metadata": {
        "colab": {
          "base_uri": "https://localhost:8080/"
        },
        "id": "tmVqFvQT1i5w",
        "outputId": "3371a0d1-a7f6-42f4-e884-34ce8f43dcd4"
      },
      "execution_count": null,
      "outputs": [
        {
          "output_type": "stream",
          "name": "stdout",
          "text": [
            "Enter the value of the first variable (a): 5\n",
            "Enter the value of the second variable (b): 9\n",
            "Original values: a = 5, b = 9\n",
            "Swapped values: a = 9, b = 5\n"
          ]
        }
      ]
    },
    {
      "cell_type": "markdown",
      "source": [
        "5.Write a Python program to generate a random number."
      ],
      "metadata": {
        "id": "eA_4kGcs1q03"
      }
    },
    {
      "cell_type": "code",
      "source": [
        "import random\n",
        "print(f\"Random number: {random.randint(1, 10)}\")\n"
      ],
      "metadata": {
        "colab": {
          "base_uri": "https://localhost:8080/"
        },
        "id": "bwuJrNah1yLt",
        "outputId": "562442a7-189a-4a80-b58e-a7a21dfb8639"
      },
      "execution_count": null,
      "outputs": [
        {
          "output_type": "stream",
          "name": "stdout",
          "text": [
            "Random number: 6\n"
          ]
        }
      ]
    },
    {
      "cell_type": "markdown",
      "source": [
        "6.Write a Python program to convert kilometers to miles.\n"
      ],
      "metadata": {
        "id": "E7xBBfrP2Apv"
      }
    },
    {
      "cell_type": "code",
      "source": [
        "kilometers = float(input(\"Enter distance in kilometers: \"))\n",
        "# Conversion factor: 1 kilometer = 0.621371 miles\n",
        "conversion_factor = 0.621371\n",
        "miles = kilometers * conversion_factor\n",
        "print(f\"{kilometers} kilometers is equal to {miles} miles\")"
      ],
      "metadata": {
        "colab": {
          "base_uri": "https://localhost:8080/"
        },
        "id": "1Ce9dRGs2EC2",
        "outputId": "06d52087-f74c-4574-a095-8f9f436823c7"
      },
      "execution_count": null,
      "outputs": [
        {
          "output_type": "stream",
          "name": "stdout",
          "text": [
            "Enter distance in kilometers: 43\n",
            "43.0 kilometers is equal to 26.718953 miles\n"
          ]
        }
      ]
    },
    {
      "cell_type": "markdown",
      "source": [
        "7.Write a Python program to convert Celsius to Fahrenheit."
      ],
      "metadata": {
        "id": "FU-xOvBe2MJm"
      }
    },
    {
      "cell_type": "code",
      "source": [
        "celsius = float(input(\"Enter temperature in Celsius: \"))\n",
        "# Conversion formula: Fahrenheit = (Celsius * 9/5) + 32\n",
        "fahrenheit = (celsius * 9/5) + 32\n",
        "print(f\"{celsius} degrees Celsius is equal to {fahrenheit} degrees Fahrenheit\")"
      ],
      "metadata": {
        "colab": {
          "base_uri": "https://localhost:8080/"
        },
        "id": "7RvIxWeu2MdP",
        "outputId": "66590ec1-300e-41f2-eda8-023560ff3e05"
      },
      "execution_count": null,
      "outputs": [
        {
          "output_type": "stream",
          "name": "stdout",
          "text": [
            "Enter temperature in Celsius: 30\n",
            "30.0 degrees Celsius is equal to 86.0 degrees Fahrenheit\n"
          ]
        }
      ]
    },
    {
      "cell_type": "markdown",
      "source": [
        "8.Write a Python program to display calendar."
      ],
      "metadata": {
        "id": "FIYB5qMd2d8n"
      }
    },
    {
      "cell_type": "code",
      "source": [
        "import calendar\n",
        "year = int(input(\"Enter year: \"))\n",
        "month = int(input(\"Enter month: \"))\n",
        "cal = calendar.month(year, month)\n",
        "print(cal)"
      ],
      "metadata": {
        "colab": {
          "base_uri": "https://localhost:8080/"
        },
        "id": "krnj39Or2mye",
        "outputId": "26d4cb71-b1c1-47bf-b812-5382254f6a8b"
      },
      "execution_count": null,
      "outputs": [
        {
          "output_type": "stream",
          "name": "stdout",
          "text": [
            "Enter year: 2024\n",
            "Enter month: 01\n",
            "    January 2024\n",
            "Mo Tu We Th Fr Sa Su\n",
            " 1  2  3  4  5  6  7\n",
            " 8  9 10 11 12 13 14\n",
            "15 16 17 18 19 20 21\n",
            "22 23 24 25 26 27 28\n",
            "29 30 31\n",
            "\n"
          ]
        }
      ]
    },
    {
      "cell_type": "markdown",
      "source": [
        "9.Write a Python program to solve quadratic equation.\n",
        "\n",
        "The standard form of a quadratic equation is:\n",
        "\n",
        "      𝑎𝑥 + 𝑏𝑥 + 𝑐 = 0\n",
        "\n",
        "  where\n",
        "  a, b and c are real numbers and 𝑎 ≠ 0\n",
        "\n",
        "  The solutions of this quadratic equation is given by:\n",
        "\n",
        "  (−𝑏 ± (𝑏 − 4𝑎𝑐 )/(2𝑎)\n",
        "\n"
      ],
      "metadata": {
        "id": "MDdeeo3z20i9"
      }
    },
    {
      "cell_type": "code",
      "source": [
        "import math\n",
        "# Input coefficients\n",
        "a = float(input(\"Enter coefficient a: \"))\n",
        "b = float(input(\"Enter coefficient b: \"))\n",
        "c = float(input(\"Enter coefficient c: \"))\n",
        "# Calculate the discriminant\n",
        "discriminant = b**2 - 4*a*c\n",
        "# Check if the discriminant is positive, negative, or zero\n",
        "if discriminant > 0:\n",
        " # Two real and distinct roots\n",
        " root1 = (-b + math.sqrt(discriminant)) / (2*a)\n",
        " root2 = (-b - math.sqrt(discriminant)) / (2*a)\n",
        " print(f\"Root 1: {root1}\")\n",
        " print(f\"Root 2: {root2}\")\n",
        "elif discriminant == 0:\n",
        " # One real root (repeated)\n",
        " root = -b / (2*a)\n",
        " print(f\"Root: {root}\")\n",
        "else:\n",
        " # Complex roots\n",
        " real_part = -b / (2*a)\n",
        " imaginary_part = math.sqrt(abs(discriminant)) / (2*a)\n",
        " print(f\"Root 1: {real_part} + {imaginary_part}i\")\n",
        " print(f\"Root 2: {real_part} - {imaginary_part}i\")"
      ],
      "metadata": {
        "colab": {
          "base_uri": "https://localhost:8080/"
        },
        "id": "QuZ5rsz43gRZ",
        "outputId": "bfb442a8-f1fd-4bc0-d56e-a1ad70f18f4a"
      },
      "execution_count": null,
      "outputs": [
        {
          "output_type": "stream",
          "name": "stdout",
          "text": [
            "Enter coefficient a: 1\n",
            "Enter coefficient b: 4\n",
            "Enter coefficient c: 8\n",
            "Root 1: -2.0 + 2.0i\n",
            "Root 2: -2.0 - 2.0i\n"
          ]
        }
      ]
    },
    {
      "cell_type": "markdown",
      "source": [
        "10.Write a Python program to swap two variables without temp variable"
      ],
      "metadata": {
        "id": "_w1Z89dq3s6n"
      }
    },
    {
      "cell_type": "code",
      "source": [
        "a = 5\n",
        "b = 10\n",
        "# Swapping without a temporary variable\n",
        "a, b = b, a\n",
        "print(\"After swapping:\")\n",
        "print(\"a =\", a)\n",
        "print(\"b =\", b)"
      ],
      "metadata": {
        "id": "u7Cijlba3wgG",
        "outputId": "a79a685e-f8d2-41c4-f549-7fe353dd12bc",
        "colab": {
          "base_uri": "https://localhost:8080/"
        }
      },
      "execution_count": null,
      "outputs": [
        {
          "output_type": "stream",
          "name": "stdout",
          "text": [
            "After swapping:\n",
            "a = 10\n",
            "b = 5\n"
          ]
        }
      ]
    },
    {
      "cell_type": "markdown",
      "source": [
        "11.Write a Python Program to Check if a Number is Positive, Negative or Zero"
      ],
      "metadata": {
        "id": "ZXuJGlBnuTBu"
      }
    },
    {
      "cell_type": "code",
      "source": [
        "num = float(input(\"Enter a number: \"))\n",
        "if num > 0:\n",
        " print(\"Positive number\")\n",
        "elif num == 0:\n",
        " print(\"Zero\")\n",
        "else:\n",
        " print(\"Negative number\")"
      ],
      "metadata": {
        "colab": {
          "base_uri": "https://localhost:8080/"
        },
        "id": "FrzQMI25uYpk",
        "outputId": "a61fe676-bd6a-491e-b3c9-019ebedd442c"
      },
      "execution_count": null,
      "outputs": [
        {
          "output_type": "stream",
          "name": "stdout",
          "text": [
            "Enter a number: 5\n",
            "Positive number\n"
          ]
        }
      ]
    },
    {
      "cell_type": "markdown",
      "source": [
        "12. write a python Program to check if a number is odd or even."
      ],
      "metadata": {
        "id": "h9UK3bdDungT"
      }
    },
    {
      "cell_type": "code",
      "source": [
        "num = int(input(\"Enter a number:\"))\n",
        "\n",
        "if num%2 == 0:\n",
        "  print(\"this is even number\")\n",
        "else:\n",
        "  print(\"This is odd number.\")"
      ],
      "metadata": {
        "colab": {
          "base_uri": "https://localhost:8080/"
        },
        "id": "IBdApuSPuyeb",
        "outputId": "844aa5e3-38da-4c4e-ec7b-e427ffde6d05"
      },
      "execution_count": null,
      "outputs": [
        {
          "output_type": "stream",
          "name": "stdout",
          "text": [
            "Enter a number:11\n",
            "This is odd number.\n"
          ]
        }
      ]
    },
    {
      "cell_type": "markdown",
      "source": [
        "13. Write a python program to check leap year"
      ],
      "metadata": {
        "id": "wbb7GybkYORu"
      }
    },
    {
      "cell_type": "code",
      "source": [
        "year = int(input(\"Enter the year\"))\n",
        "\n",
        "\n",
        "\n",
        "if (year % 400 ==0)and(year % 100 == 0):\n",
        "  print(\"{0} is a leap year\".format(year))\n",
        "\n",
        "elif(year % 4 == 0) and (year % 100 !=0):\n",
        "  print(\"{0} is a leap year\".format(year))\n",
        "\n",
        "else:\n",
        "  print(\"{0} is not a leap year\".format(year))"
      ],
      "metadata": {
        "colab": {
          "base_uri": "https://localhost:8080/"
        },
        "id": "qD5LrWe5ZO6f",
        "outputId": "31ebdedb-bd13-4c9c-ec0a-811187d7e326"
      },
      "execution_count": null,
      "outputs": [
        {
          "output_type": "stream",
          "name": "stdout",
          "text": [
            "Enter the year2024\n",
            "2024 is a leap year\n"
          ]
        }
      ]
    },
    {
      "cell_type": "markdown",
      "source": [
        "14.Write a Python Program to Check Prime Number.\n",
        "\n",
        "\n",
        "\n",
        "Prime Numbers:\n",
        "\n",
        "\n",
        "\n",
        "\n",
        "A prime number is a whole number that cannot be evenly divided by any other number\n",
        "except for 1 and itself. For example, 2, 3, 5, 7, 11, and 13 are prime numbers because they\n",
        "cannot be divided by any other positive integer except for 1 and their own value."
      ],
      "metadata": {
        "id": "D1nhf0qRxRFA"
      }
    },
    {
      "cell_type": "code",
      "source": [
        "num = int(input())\n",
        "\n",
        "flag = False\n",
        "\n",
        "\n",
        "if num ==1:\n",
        "  print(f\"{num},is not prime number\")\n",
        "\n",
        "elif num > 1:\n",
        "\n",
        "  for i in range(2,num):\n",
        "    if (num % i) ==0:\n",
        "      flage = True\n",
        "      break\n",
        "\n",
        "if flag:\n",
        "  print(f\"{num}, is not a prime number\")\n",
        "else:\n",
        "  print(f\"{num},is a prime number\")"
      ],
      "metadata": {
        "colab": {
          "base_uri": "https://localhost:8080/"
        },
        "id": "AWQdUUK5xfRl",
        "outputId": "d6396b90-c457-4887-ef6f-3596a868af10"
      },
      "execution_count": null,
      "outputs": [
        {
          "output_type": "stream",
          "name": "stdout",
          "text": [
            "27\n",
            "27,is a prime number\n"
          ]
        }
      ]
    },
    {
      "cell_type": "markdown",
      "source": [
        "15. Write a python program to print all prime numbers in an interval of 1- 10.\n"
      ],
      "metadata": {
        "id": "3x7bLtVXVnBB"
      }
    },
    {
      "cell_type": "code",
      "source": [
        "lower =1\n",
        "upper = 10\n",
        "\n",
        "print(\"Prime numbers between\",lower,\"and\",upper,\"are:\")\n",
        "\n",
        "for num in range(lower,upper+1):\n",
        "  # all prime numbers are greater than 1\n",
        "  if num > 1:\n",
        "      for i in range(2,num):\n",
        "        if(num % i) == 0:\n",
        "             break\n",
        "      else:\n",
        "        print(num)"
      ],
      "metadata": {
        "colab": {
          "base_uri": "https://localhost:8080/"
        },
        "id": "uR-WsqMmVz7k",
        "outputId": "95e45cde-2742-4bbc-a193-ab6febcdb15f"
      },
      "execution_count": null,
      "outputs": [
        {
          "output_type": "stream",
          "name": "stdout",
          "text": [
            "Prime numbers between 1 and 10 are:\n",
            "2\n",
            "3\n",
            "5\n",
            "7\n"
          ]
        }
      ]
    },
    {
      "cell_type": "markdown",
      "source": [
        "16. Write a python program to find the factorial of a number."
      ],
      "metadata": {
        "id": "o2llb2IjYEfo"
      }
    },
    {
      "cell_type": "code",
      "source": [
        "num = int(input(\"Enter a number:\"))\n",
        "factorial = 1\n",
        "if num<0:\n",
        "    print(\"factorial does not\")\n",
        "elif num ==0:\n",
        "  print(\"Factorial of 0 is 1\")\n",
        "else:\n",
        "  for i in range(1,num+1):\n",
        "    factorial = factorial*i\n",
        "  print(f'The factorial of {num} is {factorial}')"
      ],
      "metadata": {
        "colab": {
          "base_uri": "https://localhost:8080/"
        },
        "id": "UaIFBzxiYPzu",
        "outputId": "4bb12a12-f04e-4bc0-d082-9f1b94a4994e"
      },
      "execution_count": null,
      "outputs": [
        {
          "output_type": "stream",
          "name": "stdout",
          "text": [
            "Enter a number:4\n",
            "The factorial of 4 is 24\n"
          ]
        }
      ]
    },
    {
      "cell_type": "markdown",
      "source": [
        "17. Write a python to Display the multiplication Table."
      ],
      "metadata": {
        "id": "Y_tMcedSgQAg"
      }
    },
    {
      "cell_type": "code",
      "source": [
        "num = int(input(\"Display multiplication table of:\"))\n",
        "\n",
        "for i in range(1,11):\n",
        "  print(f\"{num}X{i}={num*i}\")"
      ],
      "metadata": {
        "colab": {
          "base_uri": "https://localhost:8080/"
        },
        "id": "9iI_elYXgekB",
        "outputId": "84cc1c5e-a13e-4759-f909-37d496f8d68c"
      },
      "execution_count": null,
      "outputs": [
        {
          "output_type": "stream",
          "name": "stdout",
          "text": [
            "Display multiplication table of:10\n",
            "10X1=10\n",
            "10X2=20\n",
            "10X3=30\n",
            "10X4=40\n",
            "10X5=50\n",
            "10X6=60\n",
            "10X7=70\n",
            "10X8=80\n",
            "10X9=90\n",
            "10X10=100\n"
          ]
        }
      ]
    },
    {
      "cell_type": "markdown",
      "source": [
        "18. Write a Python Program to Print the Fibonacci sequence.\n",
        "Fibonacci sequence:\n",
        "The Fibonacci sequence is a series of numbers where each number is the sum of the two\n",
        "preceding ones, typically starting with 0 and 1. So, the sequence begins with 0 and 1, and\n",
        "the next number is obtained by adding the previous two numbers. This pattern continues\n",
        "indefinitely, generating a sequence that looks like this:\n",
        "0, 1, 1, 2, 3, 5, 8, 13, 21, 34, 55, 89, 144, and so on.\n",
        "Mathematically, the Fibonacci sequence can be defined using the following recurrence\n",
        "relation:\n",
        "𝐹(0) = 0 𝐹(1) = 1 𝐹(𝑛) = 𝐹(𝑛 − 1) + 𝐹(𝑛 − 2)𝑓𝑜𝑟𝑛 > 1"
      ],
      "metadata": {
        "id": "sL913FkVpWFU"
      }
    },
    {
      "cell_type": "code",
      "source": [
        "nterms =int(input(\"How many terms ?\"))\n",
        "\n",
        "n1,n2 = 0,1\n",
        "count = 0\n",
        "\n",
        "if nterms <=0:\n",
        "  print(\"please enter a  +ve integer\")\n",
        "\n",
        "elif nterms==1:\n",
        "  print(\"Fibonacci sequence upto\",nterms,\":\")\n",
        "  print(n1)\n",
        "else:\n",
        "  print(\"Fibonacci sequence:\")\n",
        "  while count < nterms:\n",
        "    print(n1)\n",
        "    nth = n1+n2\n",
        "\n",
        "    n1=n2\n",
        "    n2=nth\n",
        "    count += 1"
      ],
      "metadata": {
        "colab": {
          "base_uri": "https://localhost:8080/"
        },
        "id": "SlCPwsK6pza-",
        "outputId": "1e37929d-1237-4d03-b7e6-566bef93cece"
      },
      "execution_count": null,
      "outputs": [
        {
          "output_type": "stream",
          "name": "stdout",
          "text": [
            "How many terms ?5\n",
            "Fibonacci sequence:\n",
            "0\n",
            "1\n",
            "1\n",
            "2\n",
            "3\n"
          ]
        }
      ]
    },
    {
      "cell_type": "markdown",
      "source": [
        "19. Write a python program to check Armstrong number?\n",
        "\n",
        "Armstrong Number:\n",
        "\n",
        "It is a number that is equal to the sum of its own digits, each raised to a power equal to the\n",
        "number of digits in the number.\n",
        "For example, let's consider the number 153:\n",
        "It has three digits (1, 5, and 3).\n",
        "If we calculate + , we get , which is equal to .\n",
        "So, 153 is an Armstrong number because it equals the sum of its digits raised to the power\n",
        "of the number of digits in the number.\n",
        "Another example is 9474:\n",
        "It has four digits (9, 4, 7, and 4).\n",
        "If we calculate , we get , which is also\n",
        "equal to .\n",
        "Therefore, 9474 is an Armstrong number as well.\n",
        "9 + + +\n",
        "4"
      ],
      "metadata": {
        "id": "wJzZXnQ5FD7j"
      }
    },
    {
      "cell_type": "code",
      "source": [
        "num = int(input(\"Enter a number:\"))\n",
        "\n",
        "num_str= str(num)\n",
        "num_digits = len(num_str)\n",
        "\n",
        "sum_of_powers = 0\n",
        "temp_num =num\n",
        "\n",
        "while temp_num > 0:\n",
        "  digit = temp_num % 10\n",
        "  sum_of_powers += digit ** num_digits\n",
        "  temp_num //=10\n",
        "\n",
        "if sum_of_powers == num:\n",
        "  print(f\"{num} is an Armstrong number .\")\n",
        "else:\n",
        "  print(f\"{num} is not an Armstrong number.\")"
      ],
      "metadata": {
        "colab": {
          "base_uri": "https://localhost:8080/"
        },
        "id": "dHD-FK0OGel0",
        "outputId": "c0161197-41a7-46c5-8ffa-8f1e20b76e0f"
      },
      "execution_count": null,
      "outputs": [
        {
          "output_type": "stream",
          "name": "stdout",
          "text": [
            "Enter a number:153\n",
            "153 is an Armstrong number .\n"
          ]
        }
      ]
    },
    {
      "cell_type": "markdown",
      "source": [
        "20. Write a Python Program to find Armstrong Number in an interval"
      ],
      "metadata": {
        "id": "djFYGrzOjcZK"
      }
    },
    {
      "cell_type": "code",
      "source": [
        "lower = int(input(\"Enter the lower limit of the interval: \"))\n",
        "upper = int(input(\"ENter the upper limit of the interval: \"))\n",
        "\n",
        "for num in range (lower, upper+1):\n",
        "  order = len(str(num))\n",
        "  temp_num=num\n",
        "  sum=0\n",
        "\n",
        "  while temp_num >0:\n",
        "    digit =temp_num %10\n",
        "    sum+= digit**order\n",
        "    temp_num //=10\n",
        "\n",
        "    if num == sum:\n",
        "      print(num)"
      ],
      "metadata": {
        "colab": {
          "base_uri": "https://localhost:8080/"
        },
        "id": "F3T2jBk7l2HO",
        "outputId": "6e4db328-a582-41c9-be9e-a043a943c88b"
      },
      "execution_count": null,
      "outputs": [
        {
          "output_type": "stream",
          "name": "stdout",
          "text": [
            "Enter the lower limit of the interval: 100\n",
            "ENter the upper limit of the interval: 200\n",
            "125\n",
            "153\n"
          ]
        }
      ]
    },
    {
      "cell_type": "markdown",
      "source": [
        "21. Write a python program to find the sum of natural numbers.\n",
        "\n",
        "Natural numbers are a set of positive integers that are used to count and order objects.\n",
        "They are the numbers that typically start from 1 and continue indefinitely, including all the\n",
        "whole numbers greater than 0. In mathematical notation, the set of natural numbers is often\n",
        "denoted as \"N\" and can be expressed as:\n",
        "𝑁 = 1, 2, 3, 4, 5, 6, 7, 8, . . .\n",
        "\n",
        "\n",
        "𝑁 = 1, 2, 3, 4, 5, 6, 7, 8, . . .\n",
        "\n",
        "\n"
      ],
      "metadata": {
        "id": "zXdlUorE_guQ"
      }
    },
    {
      "cell_type": "code",
      "source": [
        "limit = int(input(\"Enter the limit: \"))\n",
        "\n",
        "sum=0\n",
        "\n",
        "for i in range(1,limit+1):\n",
        "  sum+=i\n",
        "\n",
        "print(\"the sum of nature numbers upto \",limit,\"is:\",sum)"
      ],
      "metadata": {
        "colab": {
          "base_uri": "https://localhost:8080/"
        },
        "id": "QgMX-CkW_yfx",
        "outputId": "141a7266-b2ae-44d8-fa09-43cb760f048f"
      },
      "execution_count": null,
      "outputs": [
        {
          "output_type": "stream",
          "name": "stdout",
          "text": [
            "Enter the limit: 5\n",
            "the sum of nature numbers upto  5 is: 15\n"
          ]
        }
      ]
    },
    {
      "cell_type": "markdown",
      "source": [
        "**22.Write a Python Program to Find LCM.**\n",
        "\n",
        "**Least Common Multiple(LCM):**\n",
        "\n",
        "LCM, or Least Common Multiple, is the smallest multiple that is exactly divisible by two or\n",
        "more numbers.\n",
        "\n",
        "\n",
        "**Formula:**\n",
        "\n",
        "\n",
        "For two numbers a and b, the LCM can be found using the formula:\n",
        "\n",
        "LCM(𝑎, 𝑏) =\n",
        "|𝑎 ⋅ 𝑏|  /\n",
        "  GCD(𝑎, 𝑏)\n",
        "\n",
        "For more than two numbers, you can find the LCM step by step, taking the LCM of pairs of\n",
        "numbers at a time until you reach the last pair.\n",
        "Note: GCD stands for Greatest Common Diviso\n"
      ],
      "metadata": {
        "id": "-bURTTBxNdyL"
      }
    },
    {
      "cell_type": "code",
      "source": [
        "def compute_Icm(x,y):\n",
        "  if x>y:\n",
        "    greater =x\n",
        "  else:\n",
        "    greater =y\n",
        "  while(True):\n",
        "    if((greater % x==0) and (greater %y ==0)):\n",
        "      lcm = greater\n",
        "      break\n",
        "    greater +=1\n",
        "  return lcm\n",
        "\n",
        "num1 =int(input('Enter the number:'))\n",
        "num2 =int(input('Enter the 2nd number:'))\n",
        "\n",
        "print(\"the LCM is \",compute_Icm(num1,num2))"
      ],
      "metadata": {
        "colab": {
          "base_uri": "https://localhost:8080/"
        },
        "id": "32uqnU7TOTVP",
        "outputId": "e8446795-5e7e-400c-cb8e-f8d9c1e99a26"
      },
      "execution_count": null,
      "outputs": [
        {
          "output_type": "stream",
          "name": "stdout",
          "text": [
            "Enter the number:54\n",
            "Enter the 2nd number:24\n",
            "the LCM is  216\n"
          ]
        }
      ]
    },
    {
      "cell_type": "markdown",
      "source": [
        "23. Write a python program to find HCF\n",
        "\n",
        "HCF or Highest Common Factor is the largest Positive integer that divides two or more numbers without leaving a remainder.\n",
        "\n",
        "Formula:\n",
        "\n",
        "For two numbers a and b, the HCF can be found using the formula:\n",
        "\n",
        "**`HCF(a,b)= GCD(a,b)`**\n",
        "\n",
        "\n",
        "For more than two numbers, you can find the HCF by taking the GCD of pairs of numbers at\n",
        "a time until you reach the last pair.\n",
        "Note: GCD stands for Greatest Common Divisor.\n"
      ],
      "metadata": {
        "id": "q5-h30D82Zbw"
      }
    },
    {
      "cell_type": "code",
      "source": [
        "def compute_hcf(x,y):\n",
        "  if x>y:\n",
        "    smaller =y\n",
        "  else:\n",
        "    smaller =x\n",
        "  for i in range(1,smaller+1):\n",
        "    if((x%i==0)and (y%i==0)):\n",
        "      hcf =i\n",
        "  return hcf\n",
        "\n",
        "\n",
        "num1 =int(input('Enter the number:  '))\n",
        "num2=int(input('Enter the number :  '))\n",
        "\n",
        "\n",
        "print(\"The H.C.F is \", compute_hcf(num1,num2))"
      ],
      "metadata": {
        "colab": {
          "base_uri": "https://localhost:8080/"
        },
        "id": "lJE63CpG26zi",
        "outputId": "32ec9f4d-2ac4-404b-f6b3-ff061f88f938"
      },
      "execution_count": 1,
      "outputs": [
        {
          "output_type": "stream",
          "name": "stdout",
          "text": [
            "Enter the number:  54\n",
            "Enter the number :  24\n",
            "The H.C.F is  6\n"
          ]
        }
      ]
    }
  ]
}